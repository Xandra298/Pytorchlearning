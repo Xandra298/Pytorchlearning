{
 "cells": [
  {
   "cell_type": "markdown",
   "id": "13dbb89b",
   "metadata": {},
   "source": [
    "## 模型保存\n"
   ]
  },
  {
   "cell_type": "code",
   "execution_count": null,
   "id": "13a19938",
   "metadata": {},
   "outputs": [],
   "source": [
    "import  torchvision\n",
    "import  torch\n",
    "\n",
    "#模型\n",
    "vgg16 = torchvision.models.vgg16(pretrained=False)\n",
    "\n",
    "# ##保存方式1 模型结构+模型参数\n",
    "# ### 参数：模型，路径\n",
    "\n",
    "torch.save(vgg16,\"vgg16_modelsave_1.pth\")\n",
    "\n",
    "\n"
   ]
  },
  {
   "cell_type": "code",
   "execution_count": null,
   "id": "92b5f9a2",
   "metadata": {},
   "outputs": [],
   "source": [
    "import  torchvision\n",
    "import  torch\n",
    "\n",
    "#模型\n",
    "vgg16 = torchvision.models.vgg16(pretrained=False)\n",
    "#保存方式2 模型参数（官方推荐）\n",
    "##参数：模型.state_dict(),路径\n",
    "##527M\n",
    "torch.save(vgg16.state_dict(),\"vgg16_modelsave_2.pth\")\n"
   ]
  },
  {
   "cell_type": "markdown",
   "id": "7438d509",
   "metadata": {},
   "source": [
    "## 模型读取\n"
   ]
  },
  {
   "cell_type": "code",
   "execution_count": null,
   "id": "9a2b619e",
   "metadata": {},
   "outputs": [],
   "source": [
    "###读取方式1>>保存方式1\n",
    "##参数：路径\n",
    "model = torch.load(\"vgg16_modelsave_1.pth\")\n",
    "print(model)"
   ]
  },
  {
   "cell_type": "code",
   "execution_count": null,
   "id": "68f79498",
   "metadata": {},
   "outputs": [],
   "source": [
    "##读取方式2>>保存方式2\n",
    "vgg16 = torchvision.models.vgg16(pretrained=False)\n",
    "#dict = torch.load(\"vgg16_modelsave_2.pth\")\n",
    "vgg16.load_state_dict(torch.load(\"vgg16_modelsave_2.pth\"))\n",
    "print(vgg16)"
   ]
  },
  {
   "cell_type": "markdown",
   "id": "7d90de8a",
   "metadata": {},
   "source": [
    "## 报错"
   ]
  },
  {
   "cell_type": "markdown",
   "id": "c0a07ecc",
   "metadata": {},
   "source": [
    "**报错1**"
   ]
  },
  {
   "cell_type": "code",
   "execution_count": null,
   "id": "4c5c11cd",
   "metadata": {},
   "outputs": [],
   "source": [
    "import torch\n",
    "class Tudui(torch.nn.Module):\n",
    "    def __init__(self):\n",
    "        super(Tudui, self).__init__()\n",
    "        self.conv2d1 = torch.nn.Conv2d(3,64,kernel_size=3)\n",
    "    def forward(self,x):\n",
    "        x = self.conv2d1(x)\n",
    "        return x\n",
    "model = Tudui()\n",
    "torch.save(model,\"model_savetest1.pth\")"
   ]
  },
  {
   "cell_type": "markdown",
   "id": "12c0e750",
   "metadata": {},
   "source": [
    "如果直接在另一个文件直接加载该模型，会报错：\n",
    "\n",
    "Traceback (most recent call last):\n",
    "  File \"D:/d2l-zh+myai/pytorch草履虫/model_save.py\", line 44, in <module>\n",
    "    model = torch.load(\"./model_savetest1.pth\")\n",
    "  File \"E:\\APP\\Anaconda\\envs\\Fpytorch\\lib\\site-packages\\torch\\serialization.py\", line 594, in load\n",
    "    return _load(opened_zipfile, map_location, pickle_module, **pickle_load_args)\n",
    "  File \"E:\\APP\\Anaconda\\envs\\Fpytorch\\lib\\site-packages\\torch\\serialization.py\", line 853, in _load\n",
    "    result = unpickler.load()\n",
    "AttributeError: Can't get attribute 'Tudui' on <module '__main__' from 'D:/d2l-zh+myai/pytorch草履虫/model_save.py'>\n",
    "    \n",
    "加载该模型：\n"
   ]
  },
  {
   "cell_type": "code",
   "execution_count": null,
   "id": "92905241",
   "metadata": {
    "scrolled": true
   },
   "outputs": [],
   "source": [
    "model = torch.load(\"./model_savetest1.pth\")\n",
    "print(model)"
   ]
  },
  {
   "cell_type": "markdown",
   "id": "4704e041",
   "metadata": {},
   "source": [
    "解决方案：要让该文件能访问到该模型的定义。\n",
    "\n",
    "1. 在直接加载前重新定义一下该模型\n",
    "\n",
    "或者\n",
    "\n",
    "2. from model_save import * 即在头文件import一下该模型定义文件"
   ]
  },
  {
   "cell_type": "code",
   "execution_count": null,
   "id": "109f9825",
   "metadata": {},
   "outputs": [],
   "source": [
    "class Tudui(torch.nn.Module):\n",
    "    def __init__(self):\n",
    "        super(Tudui, self).__init__()\n",
    "        self.conv2d1 = torch.nn.Conv2d(3,64,kernel_size=3)\n",
    "    def forward(self,x):\n",
    "        x = self.conv2d1(x)\n",
    "        return x\n",
    "model = torch.load(\"./model_savetest1.pth\")\n",
    "print(model)"
   ]
  }
 ],
 "metadata": {
  "kernelspec": {
   "display_name": "Python 3",
   "language": "python",
   "name": "python3"
  },
  "language_info": {
   "codemirror_mode": {
    "name": "ipython",
    "version": 3
   },
   "file_extension": ".py",
   "mimetype": "text/x-python",
   "name": "python",
   "nbconvert_exporter": "python",
   "pygments_lexer": "ipython3",
   "version": "3.7.13"
  },
  "toc": {
   "base_numbering": 1,
   "nav_menu": {},
   "number_sections": true,
   "sideBar": true,
   "skip_h1_title": false,
   "title_cell": "Table of Contents",
   "title_sidebar": "Contents",
   "toc_cell": false,
   "toc_position": {},
   "toc_section_display": true,
   "toc_window_display": false
  }
 },
 "nbformat": 4,
 "nbformat_minor": 5
}
