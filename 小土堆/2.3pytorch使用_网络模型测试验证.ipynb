{
 "cells": [
  {
   "cell_type": "code",
   "execution_count": 4,
   "id": "51fba8fa",
   "metadata": {},
   "outputs": [],
   "source": [
    "from torch import nn\n",
    "class Model(nn.Module):\n",
    "    def __init__(self):\n",
    "        super(Model, self).__init__()\n",
    "        self.model = nn.Sequential(\n",
    "            nn.Conv2d(3,32,5,1,2),\n",
    "            nn.MaxPool2d(2),\n",
    "            nn.Conv2d(32,32,5,1,2),\n",
    "            nn.MaxPool2d(2),\n",
    "            nn.Conv2d(32,64,5,1,2),\n",
    "            nn.MaxPool2d(2),\n",
    "            nn.Flatten(),\n",
    "            nn.Linear(64*4*4,64),\n",
    "            nn.Linear(64,10)\n",
    "#             nn.Linear(64,10),\n",
    "#             nn.Softmax(dim=1)     ###其实softmax加上去结果很不好，反而原来的好\n",
    "        )\n",
    "    def forward(self,x):\n",
    "        x = self.model(x)\n",
    "        return x"
   ]
  },
  {
   "cell_type": "code",
   "execution_count": 10,
   "id": "d07cbb71",
   "metadata": {},
   "outputs": [
    {
     "name": "stdout",
     "output_type": "stream",
     "text": [
      "<PIL.PngImagePlugin.PngImageFile image mode=RGB size=401x227 at 0x1DF609B36C8>\n",
      "torch.Size([3, 32, 32])\n",
      "torch.Size([1, 3, 32, 32])\n",
      "Model(\n",
      "  (model): Sequential(\n",
      "    (0): Conv2d(3, 32, kernel_size=(5, 5), stride=(1, 1), padding=(2, 2))\n",
      "    (1): MaxPool2d(kernel_size=2, stride=2, padding=0, dilation=1, ceil_mode=False)\n",
      "    (2): Conv2d(32, 32, kernel_size=(5, 5), stride=(1, 1), padding=(2, 2))\n",
      "    (3): MaxPool2d(kernel_size=2, stride=2, padding=0, dilation=1, ceil_mode=False)\n",
      "    (4): Conv2d(32, 64, kernel_size=(5, 5), stride=(1, 1), padding=(2, 2))\n",
      "    (5): MaxPool2d(kernel_size=2, stride=2, padding=0, dilation=1, ceil_mode=False)\n",
      "    (6): Flatten(start_dim=1, end_dim=-1)\n",
      "    (7): Linear(in_features=1024, out_features=64, bias=True)\n",
      "    (8): Linear(in_features=64, out_features=10, bias=True)\n",
      "  )\n",
      ")\n",
      "tensor([[-2.2557, -3.8394,  0.7296,  2.5577,  0.7845,  2.8287,  1.7832,  1.9100,\n",
      "         -3.9396, -1.4082]], grad_fn=<AddmmBackward>)\n",
      "tensor([5])\n"
     ]
    }
   ],
   "source": [
    "import torch\n",
    "import torchvision\n",
    "from PIL import  Image\n",
    "\n",
    "img_path = \"../../img/dog.png\"\n",
    "\n",
    "image = Image.open(img_path)\n",
    "print(image)\n",
    "#<PIL.PngImagePlugin.PngImageFile image mode=RGB size=401x227 at 0x15695923FC8>\n",
    "#image mode是RGB的\n",
    "#png图片格式一般是四个通道的（RGB+一个透明通道），这里是因为截图软件将png图片保留了三个通道）\n",
    "#通用转换：\n",
    "image = image.convert('RGB')\n",
    "\n",
    "transform = torchvision.transforms.Compose(\n",
    "    [torchvision.transforms.Resize((32,32)),\n",
    "     torchvision.transforms.ToTensor()\n",
    "\n",
    "    ]\n",
    ")\n",
    "\n",
    "image = transform(image)\n",
    "print(image.shape)\n",
    "image = image.unsqueeze(0)\n",
    "print(image.shape)\n",
    "\n",
    "####注意：模型是在GPU上训练的，现在要加载到cpu上，注意使用map_location\n",
    "model = torch.load(\"../../model_10.pth\",map_location=torch.device('cpu'))\n",
    "\n",
    "print(model)\n",
    "\n",
    "output = model(image)\n",
    "print(output)\n",
    "\n",
    "print(output.argmax(-1))"
   ]
  },
  {
   "cell_type": "markdown",
   "id": "5df0a6f5",
   "metadata": {},
   "source": [
    "####注意：模型是在GPU上训练的，现在要加载到cpu上，注意使用map_location\n",
    "\n",
    "model = torch.load(\"../../model_10.pth\",map_location=torch.device('cpu'))"
   ]
  }
 ],
 "metadata": {
  "kernelspec": {
   "display_name": "Python 3",
   "language": "python",
   "name": "python3"
  },
  "language_info": {
   "codemirror_mode": {
    "name": "ipython",
    "version": 3
   },
   "file_extension": ".py",
   "mimetype": "text/x-python",
   "name": "python",
   "nbconvert_exporter": "python",
   "pygments_lexer": "ipython3",
   "version": "3.7.13"
  },
  "toc": {
   "base_numbering": 1,
   "nav_menu": {},
   "number_sections": true,
   "sideBar": true,
   "skip_h1_title": false,
   "title_cell": "Table of Contents",
   "title_sidebar": "Contents",
   "toc_cell": false,
   "toc_position": {},
   "toc_section_display": true,
   "toc_window_display": false
  }
 },
 "nbformat": 4,
 "nbformat_minor": 5
}
