{
 "cells": [
  {
   "cell_type": "code",
   "execution_count": 1,
   "id": "4924c712",
   "metadata": {},
   "outputs": [],
   "source": [
    "import torch\n",
    "from matplotlib import pyplot as plt\n",
    "\n",
    "def plot_curve(data):\n",
    "    fig = plt.figure()\n",
    "    plt.plot(range(len(data)),data,color='blue')\n",
    "    plt.legend(['value'],loc='upper right')\n",
    "    plt.xlabel('step')\n",
    "    plt.ylabel('value')\n",
    "    plt.show()\n",
    "\n",
    "\n",
    "def plot_image(img,label,name):\n",
    "    fig=plt.figure()\n",
    "    for i in range(6):\n",
    "        plt.subplot(2,3,i+1)\n",
    "        plt.tight_layout()\n",
    "        plt.imshow(img[i][0]*0.3081+0.1307,cmap='gray',interpolation='none')\n",
    "        plt.title(\"{}:{}\".format(name,label[i].item()))\n",
    "        plt.xticks([])\n",
    "        plt.yticks([])\n",
    "    plt.show()\n",
    "\n",
    "def one_hot(label,depth=10):\n",
    "    out = torch.zeros(label.size(0),depth)\n",
    "    idx = torch.LongTensor(label).view(-1,1)\n",
    "    out.scatter(dim=1,index=idx,value=1)\n",
    "    return out"
   ]
  },
  {
   "cell_type": "code",
   "execution_count": 2,
   "id": "cf497a4f",
   "metadata": {},
   "outputs": [],
   "source": [
    "import torch\n",
    "from torch import nn\n",
    "from torch.nn import functional as F\n",
    "from torch import optim\n",
    "\n",
    "import torchvision\n",
    "from matplotlib import pyplot as plt\n"
   ]
  },
  {
   "cell_type": "markdown",
   "id": "ba1d16cf",
   "metadata": {},
   "source": [
    "### step1 load dataset"
   ]
  },
  {
   "cell_type": "code",
   "execution_count": 3,
   "id": "980b4250",
   "metadata": {},
   "outputs": [],
   "source": [
    "batch_size=512\n",
    "train_loader = torch.utils.data.DataLoader(torchvision.datasets.MNIST('mnist data',train=True,download=True,\n",
    "                                                                     transform=torchvision.transforms.Compose(\n",
    "                                                                     [torchvision.transforms.ToTensor(),torchvision.transforms.Normalize(\n",
    "                                                                     (0.1307,),(0.3081,))])),\n",
    "                                            batch_size=batch_size,shuffle=True)\n",
    "\n",
    "test_loader = torch.utils.data.DataLoader(torchvision.datasets.MNIST('mnist data/',train=False,download=True,\n",
    "                                                                     transform=torchvision.transforms.Compose(\n",
    "                                                                     [torchvision.transforms.ToTensor(),torchvision.transforms.Normalize(\n",
    "                                                                     (0.1307,),(0.3081,))])),\n",
    "                                            batch_size=batch_size,shuffle=False)\n",
    "                "
   ]
  },
  {
   "cell_type": "code",
   "execution_count": 4,
   "id": "32edb8e6",
   "metadata": {
    "scrolled": true
   },
   "outputs": [
    {
     "name": "stdout",
     "output_type": "stream",
     "text": [
      "torch.Size([512, 1, 28, 28]) torch.Size([512]) tensor(-0.4242) tensor(2.8215)\n"
     ]
    },
    {
     "data": {
      "image/png": "[encoded data removed]",
      "text/plain": [
       "<Figure size 432x288 with 6 Axes>"
      ]
     },
     "metadata": {},
     "output_type": "display_data"
    }
   ],
   "source": [
    "x,y = next(iter(train_loader))\n",
    "print(x.shape,y.shape,x.min(),x.max())\n",
    "plot_image(x,y,'image sample')"
   ]
  },
  {
   "cell_type": "code",
   "execution_count": 5,
   "id": "7be649ce",
   "metadata": {},
   "outputs": [],
   "source": [
    "class Net(nn.Module):\n",
    "    def __init__(self):\n",
    "        super(Net,self).__init__()\n",
    "        \n",
    "        #xw+b\n",
    "        self.fc1 = nn.Linear(28*28,256)\n",
    "        self.fc2 = nn.Linear(256,64)\n",
    "        self.fc3 = nn.Linear(64,10)\n",
    "    \n",
    "        \n",
    "    def forward(self,x):\n",
    "            #x: [b,1,28,28]\n",
    "            #h1  = relu(h1w1+b1)\n",
    "            x = F.relu(self.fc1(x))\n",
    "            #h2 = relu(h1w2+b2)\n",
    "            x = F.relu(self.fc2(x))\n",
    "            \n",
    "            # h3 = h2w3+b3\n",
    "            x = self.fc3(x)\n",
    "           \n",
    "            \n",
    "            return x\n"
   ]
  },
  {
   "cell_type": "markdown",
   "id": "31dd90c8",
   "metadata": {},
   "source": [
    "### step3 training"
   ]
  },
  {
   "cell_type": "code",
   "execution_count": 6,
   "id": "e9d62936",
   "metadata": {
    "scrolled": true
   },
   "outputs": [
    {
     "name": "stdout",
     "output_type": "stream",
     "text": [
      "0 0 2.325763463973999\n",
      "0 10 2.2359707355499268\n",
      "0 20 2.0176968574523926\n",
      "0 30 1.548746943473816\n",
      "0 40 0.9847962856292725\n",
      "0 50 0.7092803120613098\n",
      "0 60 0.5130395889282227\n",
      "0 70 0.4838310182094574\n",
      "0 80 0.4211824834346771\n",
      "0 90 0.3616524934768677\n",
      "0 100 0.4240151047706604\n",
      "0 110 0.44728684425354004\n",
      "1 0 0.34343966841697693\n",
      "1 10 0.2989502251148224\n",
      "1 20 0.39720189571380615\n",
      "1 30 0.32297730445861816\n",
      "1 40 0.28101590275764465\n",
      "1 50 0.2809380292892456\n",
      "1 60 0.27540186047554016\n",
      "1 70 0.3281967341899872\n",
      "1 80 0.25158610939979553\n",
      "1 90 0.20750050246715546\n",
      "1 100 0.2591235339641571\n",
      "1 110 0.35156145691871643\n",
      "2 0 0.30294182896614075\n",
      "2 10 0.23892641067504883\n",
      "2 20 0.2879260182380676\n",
      "2 30 0.27008992433547974\n",
      "2 40 0.24173201620578766\n",
      "2 50 0.22380900382995605\n",
      "2 60 0.23227113485336304\n",
      "2 70 0.20478063821792603\n",
      "2 80 0.19964103400707245\n",
      "2 90 0.21283085644245148\n",
      "2 100 0.23924297094345093\n",
      "2 110 0.2309931069612503\n"
     ]
    },
    {
     "data": {
      "image/png": "[encoded data removed]",
      "text/plain": [
       "<Figure size 432x288 with 1 Axes>"
      ]
     },
     "metadata": {
      "needs_background": "light"
     },
     "output_type": "display_data"
    }
   ],
   "source": [
    "net = Net()\n",
    "optimizer  = optim.SGD(net.parameters(),lr=0.01,momentum=0.9)\n",
    "\n",
    "train_loss = []\n",
    "\n",
    "for epoch in range(3):\n",
    "    for batch_idx, (x,y) in enumerate(train_loader):\n",
    "        \n",
    "        #x:[b,1,28,28],y:[512]\n",
    "        #[b,1,28,28] => [b,28*28]\n",
    "        x = x.view(x.size(0),28*28)\n",
    "        #=>[b,10]\n",
    "        out = net(x)\n",
    "        \n",
    "        y_onehot = one_hot(y)\n",
    "        \n",
    "        #loss = mse(out,y_onehot)\n",
    "#         loss = F.mse_loss(out,y_onehot)\n",
    "        logits = out    \n",
    "        loss = F.cross_entropy(logits,y) #效果远远好于mse_loss\n",
    "        optimizer.zero_grad()\n",
    "        loss.backward()\n",
    "        optimizer.step()\n",
    "        train_loss.append(loss.item())\n",
    "        if batch_idx % 10 ==0:\n",
    "            print(epoch,batch_idx,loss.item())\n",
    "        \n",
    "\n",
    "plot_curve(train_loss)\n",
    "        "
   ]
  },
  {
   "cell_type": "markdown",
   "id": "0e7bdbde",
   "metadata": {},
   "source": [
    "### step4 evaluation"
   ]
  },
  {
   "cell_type": "code",
   "execution_count": 7,
   "id": "bae20f4d",
   "metadata": {},
   "outputs": [
    {
     "name": "stdout",
     "output_type": "stream",
     "text": [
      "test acc: 0.936\n"
     ]
    },
    {
     "data": {
      "image/png": "[encoded data removed]",
      "text/plain": [
       "<Figure size 432x288 with 6 Axes>"
      ]
     },
     "metadata": {},
     "output_type": "display_data"
    }
   ],
   "source": [
    "total_correct=0\n",
    "for x,y  in test_loader:\n",
    "    x = x.view(x.size(0),28*28)\n",
    "    out = net(x)\n",
    "    \n",
    "    pred =  out.argmax(dim=1)\n",
    "    correct = pred.eq(y).sum().float().item()\n",
    "    total_correct+= correct\n",
    "    \n",
    "    \n",
    "total_num = len(test_loader.dataset)\n",
    "acc = total_correct/total_num\n",
    "print('test acc:',acc)\n",
    "    \n",
    "x,y = next(iter(test_loader))    \n",
    "out = net(x.view(x.size(0),28*28))\n",
    "pred = out.argmax(dim=1)\n",
    "plot_image(x,pred,'test')\n",
    "\n",
    "\n",
    "    \n",
    "#3个epoch结果0.8"
   ]
  }
 ],
 "metadata": {
  "kernelspec": {
   "display_name": "Python 3",
   "language": "python",
   "name": "python3"
  },
  "language_info": {
   "codemirror_mode": {
    "name": "ipython",
    "version": 3
   },
   "file_extension": ".py",
   "mimetype": "text/x-python",
   "name": "python",
   "nbconvert_exporter": "python",
   "pygments_lexer": "ipython3",
   "version": "3.7.13"
  },
  "toc": {
   "base_numbering": 1,
   "nav_menu": {},
   "number_sections": true,
   "sideBar": true,
   "skip_h1_title": false,
   "title_cell": "Table of Contents",
   "title_sidebar": "Contents",
   "toc_cell": false,
   "toc_position": {},
   "toc_section_display": true,
   "toc_window_display": false
  }
 },
 "nbformat": 4,
 "nbformat_minor": 5
}
